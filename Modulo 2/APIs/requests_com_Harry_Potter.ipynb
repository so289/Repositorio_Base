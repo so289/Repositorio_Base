{
 "cells": [
  {
   "cell_type": "markdown",
   "id": "470c3017",
   "metadata": {},
   "source": [
    "# Harry Potter API"
   ]
  },
  {
   "cell_type": "markdown",
   "id": "7ecccba3",
   "metadata": {},
   "source": [
    "Harry Potter API\n",
    "\n",
    "Link: https://hp-api.onrender.com/\n",
    "\n",
    "O que faz: Dados dos personagens, casas, varinhas etc.\n"
   ]
  },
  {
   "cell_type": "markdown",
   "id": "4d691cc9",
   "metadata": {},
   "source": [
    "# 1 - Importe a biblioteca"
   ]
  },
  {
   "cell_type": "code",
   "execution_count": null,
   "id": "ec31f932",
   "metadata": {},
   "outputs": [],
   "source": []
  },
  {
   "cell_type": "markdown",
   "id": "cf13f57a",
   "metadata": {},
   "source": [
    "## 2 - Faça o download da url \"https://hp-api.onrender.com/api/characters\" e mostre a resposta e o tipo da variável contendo a resposta"
   ]
  },
  {
   "cell_type": "code",
   "execution_count": null,
   "id": "40674fdb",
   "metadata": {},
   "outputs": [],
   "source": []
  },
  {
   "cell_type": "code",
   "execution_count": null,
   "id": "065c1954",
   "metadata": {},
   "outputs": [],
   "source": []
  },
  {
   "cell_type": "markdown",
   "id": "9f053dbe",
   "metadata": {},
   "source": [
    "# 3 - Converta a resposta para json e mostre na tela o resultado da conversão e o tipo da variável contendo a esta conversão"
   ]
  },
  {
   "cell_type": "code",
   "execution_count": null,
   "id": "5f4ad1fd",
   "metadata": {},
   "outputs": [],
   "source": []
  },
  {
   "cell_type": "code",
   "execution_count": null,
   "id": "83eafccf",
   "metadata": {},
   "outputs": [],
   "source": []
  },
  {
   "cell_type": "markdown",
   "id": "7194c7fb",
   "metadata": {},
   "source": [
    "# 4 - Quantos personagens existem?"
   ]
  },
  {
   "cell_type": "code",
   "execution_count": null,
   "id": "f7328f4c",
   "metadata": {},
   "outputs": [],
   "source": []
  },
  {
   "cell_type": "code",
   "execution_count": null,
   "id": "9b71d72f",
   "metadata": {},
   "outputs": [],
   "source": []
  },
  {
   "cell_type": "markdown",
   "id": "519e8f42",
   "metadata": {},
   "source": [
    "# 5 - Cada item da lista é um dicionário contendo as informações dos personagens, mostre todas as chaves do dicionário que está na posição 0 da lista"
   ]
  },
  {
   "cell_type": "code",
   "execution_count": null,
   "id": "fb8e950e",
   "metadata": {},
   "outputs": [],
   "source": []
  },
  {
   "cell_type": "code",
   "execution_count": null,
   "id": "4c932b87",
   "metadata": {},
   "outputs": [],
   "source": []
  },
  {
   "cell_type": "markdown",
   "id": "eb9019a5",
   "metadata": {},
   "source": [
    "# 6 - Mostre o nome de todos os personagens"
   ]
  },
  {
   "cell_type": "code",
   "execution_count": null,
   "id": "c56ba598",
   "metadata": {},
   "outputs": [],
   "source": []
  },
  {
   "cell_type": "code",
   "execution_count": null,
   "id": "7e350f65",
   "metadata": {},
   "outputs": [],
   "source": []
  },
  {
   "cell_type": "markdown",
   "id": "498c6d79",
   "metadata": {},
   "source": [
    "# 7 - Mostre apenas o nome dos personagens da casa 'Gryffindor'"
   ]
  },
  {
   "cell_type": "code",
   "execution_count": null,
   "id": "7e3ba86a",
   "metadata": {},
   "outputs": [],
   "source": []
  },
  {
   "cell_type": "code",
   "execution_count": null,
   "id": "33b6e698",
   "metadata": {},
   "outputs": [],
   "source": []
  },
  {
   "cell_type": "markdown",
   "id": "d0092723",
   "metadata": {},
   "source": [
    "# (BONUS) Gerador aleatório de personagem"
   ]
  },
  {
   "cell_type": "code",
   "execution_count": null,
   "id": "681505f2",
   "metadata": {},
   "outputs": [],
   "source": [
    "import requests\n",
    "from random import randint\n",
    "\n",
    "url = \"https://hp-api.onrender.com/api/characters\"\n",
    "res = requests.get(url).json()\n",
    "\n",
    "personagem = res[randint(0,len(res))]\n",
    "print(\"Personagem aleatório de Harry Potter:\")\n",
    "print(\"Nome:\", personagem[\"name\"])\n",
    "print(\"Casa:\", personagem[\"house\"])\n"
   ]
  },
  {
   "cell_type": "code",
   "execution_count": null,
   "id": "fe24fe4b",
   "metadata": {},
   "outputs": [],
   "source": []
  }
 ],
 "metadata": {
  "kernelspec": {
   "display_name": "Python 3",
   "language": "python",
   "name": "python3"
  },
  "language_info": {
   "codemirror_mode": {
    "name": "ipython",
    "version": 3
   },
   "file_extension": ".py",
   "mimetype": "text/x-python",
   "name": "python",
   "nbconvert_exporter": "python",
   "pygments_lexer": "ipython3",
   "version": "3.13.2"
  }
 },
 "nbformat": 4,
 "nbformat_minor": 5
}
