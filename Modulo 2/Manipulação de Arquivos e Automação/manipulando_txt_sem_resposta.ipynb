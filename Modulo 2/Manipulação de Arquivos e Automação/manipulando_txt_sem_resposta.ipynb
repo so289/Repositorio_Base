{
 "cells": [
  {
   "cell_type": "markdown",
   "id": "622586b0",
   "metadata": {},
   "source": [
    "# Lendo um txt"
   ]
  },
  {
   "cell_type": "markdown",
   "id": "e95d5af8",
   "metadata": {},
   "source": [
    "Em Python, usamos a função open() para abrir arquivos:"
   ]
  },
  {
   "cell_type": "code",
   "execution_count": 11,
   "id": "73588327",
   "metadata": {},
   "outputs": [
    {
     "name": "stdout",
     "output_type": "stream",
     "text": [
      "<_io.TextIOWrapper name='hello_world.txt' mode='r' encoding='cp1252'>\n"
     ]
    }
   ],
   "source": [
    "#arquivo = open('exemplo.txt', 'modo')\n",
    "arquivo = open('hello_world.txt', 'r')\n",
    "print(arquivo)\n",
    "\n"
   ]
  },
  {
   "cell_type": "markdown",
   "id": "9efdabae",
   "metadata": {},
   "source": [
    "Os modos são:\n",
    "- 'r' – leitura (read)\n",
    "\n",
    "- 'w' – escrita (write, sobrescreve)\n",
    "\n",
    "- 'a' – escrita (append, adiciona ao final)\n",
    "\n",
    "- 'x' – escrita (cria um novo arquivo, erro se já existir)\n",
    "\n",
    "- 'b' – modo binário\n",
    "\n",
    "- 't' – modo texto (padrão)"
   ]
  },
  {
   "cell_type": "markdown",
   "id": "5485b94a",
   "metadata": {},
   "source": [
    "# Lendo um arquivo linha por linha"
   ]
  },
  {
   "cell_type": "code",
   "execution_count": 13,
   "id": "20e09ee7",
   "metadata": {},
   "outputs": [
    {
     "name": "stdout",
     "output_type": "stream",
     "text": [
      "olá mundo\n",
      "\n",
      "programação em python \n",
      "\n"
     ]
    }
   ],
   "source": [
    "# Lê linha por linha\n",
    "with open('hello_world.txt', 'r',encoding='utf-8') as f:\n",
    "    for linha in f:\n",
    "        print(linha)"
   ]
  },
  {
   "cell_type": "markdown",
   "id": "69b462fa",
   "metadata": {},
   "source": [
    "O objeto _io.TextIOWrapper é a classe que representa arquivos abertos em modo texto em Python. Sempre que você abre um arquivo usando open() com modo como 'r', 'w', 'a' (ou seja, sem o modo binário 'b'), o que você recebe é uma instância de _io.TextIOWrapper."
   ]
  },
  {
   "cell_type": "code",
   "execution_count": 3,
   "id": "50f5a4a1",
   "metadata": {},
   "outputs": [
    {
     "data": {
      "text/plain": [
       "_io.TextIOWrapper"
      ]
     },
     "execution_count": 3,
     "metadata": {},
     "output_type": "execute_result"
    }
   ],
   "source": [
    "type(arquivo)"
   ]
  },
  {
   "cell_type": "markdown",
   "id": "a74c37ef",
   "metadata": {},
   "source": [
    "# Alguns métodos do objeto _io.TextIOWrapper"
   ]
  },
  {
   "cell_type": "markdown",
   "id": "786c4600",
   "metadata": {},
   "source": [
    "| Método                        | Descrição                                             | Exemplo de uso                           |\n",
    "| ----------------------------- | ----------------------------------------------------- | ---------------------------------------- |\n",
    "| `read(size=-1)`               | Lê até `size` caracteres do arquivo; lê tudo se `-1`. | `conteudo = f.read(100)`                 |\n",
    "| `readlines()`                 | Lê todas as linhas e retorna uma lista de strings.    | `linhas = f.readlines()`                 |\n",
    "| `write(string)`               | Escreve uma string no arquivo.                        | `f.write(\"texto\\n\")`                     |\n",
    "| `writelines(list_of_strings)` | Escreve uma lista de strings no arquivo.              | `f.writelines(['linha1\\n', 'linha2\\n'])` |\n",
    "| `close()`                     | Fecha o arquivo. Após isso, não pode ser usado.       | `f.close()`                              |\n",
    "\n"
   ]
  },
  {
   "cell_type": "markdown",
   "id": "c5b35f6f",
   "metadata": {},
   "source": [
    "# Lendo o arquivo inteiro usando o método .read()"
   ]
  },
  {
   "cell_type": "code",
   "execution_count": 41,
   "id": "c633c7c2",
   "metadata": {},
   "outputs": [
    {
     "name": "stdout",
     "output_type": "stream",
     "text": [
      "olá mundo\n",
      "programação em python \n",
      "\n",
      "<class 'str'>\n"
     ]
    }
   ],
   "source": [
    "# Lê todo o conteúdo\n",
    "with open('hello_world.txt', 'r',encoding='utf-8') as f:\n",
    "    conteudo = f.read()\n",
    "    print(conteudo)\n",
    "    print(type(conteudo))"
   ]
  },
  {
   "cell_type": "code",
   "execution_count": 1,
   "id": "5cf3a056",
   "metadata": {},
   "outputs": [],
   "source": [
    "# Sobrescreve o conteúdo (ou cria o arquivo)\n",
    "with open('exemplo.txt', 'w') as f:\n",
    "    f.write(\"Primeira linha\\n\")\n",
    "    f.write(\"Segunda linha\\n\")\n",
    "    \n"
   ]
  },
  {
   "cell_type": "code",
   "execution_count": null,
   "id": "d16e04ee",
   "metadata": {},
   "outputs": [],
   "source": [
    "# Adiciona conteúdo ao final\n",
    "with open('exemplo.txt', 'a') as f:\n",
    "   with open('compras.txt' ,'r') as f:"
   ]
  },
  {
   "cell_type": "markdown",
   "id": "273cddc0",
   "metadata": {},
   "source": [
    "# Lendo o arquivo como uma lista de linhas\n"
   ]
  },
  {
   "cell_type": "code",
   "execution_count": 40,
   "id": "24aedeca",
   "metadata": {},
   "outputs": [
    {
     "name": "stdout",
     "output_type": "stream",
     "text": [
      "['olá mundo\\n', 'programação em python \\n']\n",
      "programação em python \n",
      "\n"
     ]
    }
   ],
   "source": [
    "with open('hello_world.txt', 'r', encoding='utf-8') as f:\n",
    "    conteudo = f.readlines()\n",
    "    print(conteudo)\n",
    "    print(conteudo[1])"
   ]
  },
  {
   "cell_type": "markdown",
   "id": "c923ce3d",
   "metadata": {},
   "source": [
    "# ✅ Dica Importante\n",
    "- Sempre use with open(...) as f: — isso garante que o arquivo será fechado corretamente, mesmo em caso de erro."
   ]
  },
  {
   "cell_type": "markdown",
   "id": "eba67714",
   "metadata": {},
   "source": [
    "# Exercícios"
   ]
  },
  {
   "cell_type": "markdown",
   "id": "7d35cea8",
   "metadata": {},
   "source": [
    "1 - Crie um arquivo chamado notas.txt e escreva três linhas com nomes de alunos e suas respectivas notas, por exemplo: Ana, 8.5; Bruno, 7.0; Carla, 9.2."
   ]
  },
  {
   "cell_type": "code",
   "execution_count": 43,
   "id": "310fa7fd",
   "metadata": {},
   "outputs": [],
   "source": [
    "with open('notas.txt', 'w') as f:\n",
    "    f.write(\"Ana, 8.5\\n\")\n",
    "    f.write(\"Bruno, 7.0\\n\")\n",
    "    f.write(\"Carla, 9.2\\n\")\n",
    "    \n",
    "\n",
    "\n",
    "\n"
   ]
  },
  {
   "cell_type": "code",
   "execution_count": 10,
   "id": "04775221",
   "metadata": {},
   "outputs": [
    {
     "name": "stdout",
     "output_type": "stream",
     "text": [
      "<_io.TextIOWrapper name='oi.txt' mode='r' encoding='cp1252'>\n"
     ]
    }
   ],
   "source": [
    "arquivo = open('oi.txt', 'r')\n",
    "print(arquivo)\n",
    "arquivo.close()"
   ]
  },
  {
   "cell_type": "markdown",
   "id": "842961aa",
   "metadata": {},
   "source": [
    "2 - Abra o arquivo notas.txt, leia e mostre todo o seu conteúdo"
   ]
  },
  {
   "cell_type": "code",
   "execution_count": null,
   "id": "77308e0a",
   "metadata": {},
   "outputs": [
    {
     "name": "stdout",
     "output_type": "stream",
     "text": [
      "Ana, 8.5\n",
      "Bruno, 7.0\n",
      "Carla, 9.2\n",
      "\n"
     ]
    }
   ],
   "source": [
    "with open('notas.txt', 'r',encoding='utf-8') as f:\n",
    "    conteudo = f.read()\n",
    "    print(conteudo)\n",
    "    \n",
    "    "
   ]
  },
  {
   "cell_type": "code",
   "execution_count": null,
   "id": "d7e8b710",
   "metadata": {},
   "outputs": [
    {
     "name": "stdout",
     "output_type": "stream",
     "text": [
      "Ana, 8.5\n",
      "Bruno, 7.0\n",
      "Carla, 9.2\n",
      "\n"
     ]
    }
   ],
   "source": []
  },
  {
   "cell_type": "markdown",
   "id": "6933cd02",
   "metadata": {},
   "source": [
    "3- Abra o arquivo novamente e leia linha por linha, contando quantos alunos estão listados, e imprima essa quantidade."
   ]
  },
  {
   "cell_type": "code",
   "execution_count": 57,
   "id": "19551333",
   "metadata": {},
   "outputs": [
    {
     "name": "stdout",
     "output_type": "stream",
     "text": [
      "4\n"
     ]
    }
   ],
   "source": [
    "with open('notas.txt', 'r') as f:\n",
    "    conteudo = f.readlines()\n",
    "    print(len(conteudo))"
   ]
  },
  {
   "cell_type": "code",
   "execution_count": null,
   "id": "5b0d07f9",
   "metadata": {},
   "outputs": [],
   "source": []
  },
  {
   "cell_type": "markdown",
   "id": "8caa5bdd",
   "metadata": {},
   "source": [
    "4 - Abra o arquivo em modo de adição (append) e acrescente a linha: Daniel, 6.8."
   ]
  },
  {
   "cell_type": "code",
   "execution_count": 50,
   "id": "42af4a02",
   "metadata": {},
   "outputs": [],
   "source": [
    "with open('notas.txt', 'a') as f:\n",
    "    f.write(\"Daniel, 6.8\\n\")"
   ]
  },
  {
   "cell_type": "markdown",
   "id": "ebad1150",
   "metadata": {},
   "source": [
    "5 - Abra o arquivo, leia cada linha para extrair as notas numéricas e calcule a média dessas notas, imprimindo o resultado."
   ]
  },
  {
   "cell_type": "code",
   "execution_count": 66,
   "id": "debf497a",
   "metadata": {},
   "outputs": [
    {
     "name": "stdout",
     "output_type": "stream",
     "text": [
      "7.88\n"
     ]
    }
   ],
   "source": [
    "with open('notas.txt', 'r',encoding='utf-8') as f:\n",
    "    conteudo = f.readlines()\n",
    "    soma =0\n",
    "\n",
    "    for linha in conteudo:\n",
    "        nota =float(linha.split()[1])\n",
    "        soma = soma+ nota\n",
    "    media = soma/len(conteudo)\n",
    "    print(f'{media:.2f}')\n"
   ]
  },
  {
   "cell_type": "code",
   "execution_count": null,
   "id": "ba09208e",
   "metadata": {},
   "outputs": [
    {
     "name": "stdout",
     "output_type": "stream",
     "text": [
      "7.875\n"
     ]
    }
   ],
   "source": []
  }
 ],
 "metadata": {
  "kernelspec": {
   "display_name": "Python 3",
   "language": "python",
   "name": "python3"
  },
  "language_info": {
   "codemirror_mode": {
    "name": "ipython",
    "version": 3
   },
   "file_extension": ".py",
   "mimetype": "text/x-python",
   "name": "python",
   "nbconvert_exporter": "python",
   "pygments_lexer": "ipython3",
   "version": "3.13.2"
  }
 },
 "nbformat": 4,
 "nbformat_minor": 5
}
