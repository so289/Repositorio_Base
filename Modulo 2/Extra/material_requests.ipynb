{
 "cells": [
  {
   "cell_type": "markdown",
   "id": "527d0eae",
   "metadata": {},
   "source": [
    "# Requests"
   ]
  },
  {
   "cell_type": "markdown",
   "id": "b046db7a",
   "metadata": {},
   "source": [
    "O módulo requests permite fazer facilmente o download de arquivos da Web sem se preocupar com problemas complicados como erros de rede, problemas de conexão e compressão de dados.\n",
    "\n",
    "O módulo requests não vem com o Python, portanto será necessário instalá-lo antes. \n",
    "\n",
    "Na linha de comando, execute:\n",
    "- pip install requests."
   ]
  },
  {
   "cell_type": "markdown",
   "id": "9c73e45d",
   "metadata": {},
   "source": [
    "| Categoria                   | Método/Função/Atributo                    | Descrição                                                        | Exemplo de Uso                                                  |\n",
    "| --------------------------- | ----------------------------------------- | ---------------------------------------------------------------- | --------------------------------------------------------------- |\n",
    "| **Métodos HTTP**            | `requests.get(url, ...)`                  | Envia uma requisição HTTP **GET** para obter dados.              | `r = requests.get(\"https://api.github.com\")`                    |\n",
    "| **Resposta — Atributos**    | `response.status_code`                    | Código de status HTTP.                                           | `print(r.status_code)`                                          |\n",
    "|                             | `response.text`                           | Conteúdo da resposta como string.                                | `print(r.text)`                                                 |\n",
    "|                             | `response.content`                        | Conteúdo em bytes.                                               | `print(r.content)`                                              |\n",
    "|                             | `response.json()`                         | Converte resposta JSON para dicionário.                          | `data = r.json()`                                               |\n",
    "|                             | `response.headers`                        | Cabeçalhos da resposta.                                          | `print(r.headers[\"Content-Type\"])`                              |\n",
    "|                             | `response.url`                            | URL final (após redirects).                                      | `print(r.url)`                                                  |\n"
   ]
  },
  {
   "cell_type": "code",
   "execution_count": null,
   "id": "1fe07b21",
   "metadata": {},
   "outputs": [],
   "source": [
    "import requests"
   ]
  },
  {
   "cell_type": "code",
   "execution_count": null,
   "id": "06b133b5",
   "metadata": {},
   "outputs": [],
   "source": [
    "# O método get faz o download da página\n",
    "res = requests.get('https://pt.wikipedia.org/wiki/Python')\n",
    "print(res) # A variável res é a resposta"
   ]
  },
  {
   "cell_type": "code",
   "execution_count": null,
   "id": "5c3709c7",
   "metadata": {},
   "outputs": [],
   "source": [
    "conteudo = res.text\n",
    "print(conteudo) # Mostra o conteúdo baixado como texto, neste exemplo mostra o código HTML do site"
   ]
  },
  {
   "cell_type": "markdown",
   "id": "5ae1297e",
   "metadata": {},
   "source": [
    "# Exemplo Prático Pokemon api"
   ]
  },
  {
   "cell_type": "markdown",
   "id": "da7d8484",
   "metadata": {},
   "source": [
    "🎮 1. PokéAPI\n",
    "Link: https://pokeapi.co/\n",
    "\n",
    "O que faz: Retorna informações de Pokémon, como nome, tipo, habilidades, stats etc."
   ]
  },
  {
   "cell_type": "code",
   "execution_count": null,
   "id": "ecaa5c04",
   "metadata": {},
   "outputs": [],
   "source": [
    "# Fazendo o download do site.\n",
    "res = requests.get('https://pokeapi.co/api/v2/pokemon/blastoise') # Reparem no endereço do link, após a última barra colocamos o nome do pokemon\n",
    "print(res.text) # podemos ver que o texto baixado é uma string no formato dicionário\n",
    "print(type(res.text))\n",
    "dados_pokemon = res.json() # Faz a conversão da string para um dicionário de fato\n",
    "print(type(dados_pokemon))    "
   ]
  },
  {
   "cell_type": "code",
   "execution_count": null,
   "id": "4490ff81",
   "metadata": {},
   "outputs": [],
   "source": [
    "# Verificando as chaves do dicionário\n",
    "for chave in dados_pokemon.keys():\n",
    "    print(chave)"
   ]
  },
  {
   "cell_type": "code",
   "execution_count": null,
   "id": "ed3bc954",
   "metadata": {},
   "outputs": [],
   "source": [
    "# Acessando dados do dicionário utilizando as chaves\n",
    "print(dados_pokemon['name'])\n",
    "print(dados_pokemon['moves'])\n",
    "print(dados_pokemon['types'])"
   ]
  },
  {
   "cell_type": "markdown",
   "id": "12222ee3",
   "metadata": {},
   "source": [
    "# Agora é com você, utilize seus conhecimentos em programação Python para explorar as informações."
   ]
  },
  {
   "cell_type": "markdown",
   "id": "423bc68b",
   "metadata": {},
   "source": [
    "## 1 - Quantos movimentos o pokemón tem?"
   ]
  },
  {
   "cell_type": "code",
   "execution_count": null,
   "id": "24ff1f07",
   "metadata": {},
   "outputs": [],
   "source": []
  },
  {
   "cell_type": "markdown",
   "id": "536bcca9",
   "metadata": {},
   "source": [
    "## 2 - Faça um print do nome de cada movimento do pokemón"
   ]
  },
  {
   "cell_type": "code",
   "execution_count": null,
   "id": "c16a2c22",
   "metadata": {},
   "outputs": [],
   "source": []
  },
  {
   "cell_type": "markdown",
   "id": "d19d403b",
   "metadata": {},
   "source": [
    "## 3 - Salve o conteúdo baixado do pokemón em um arquivo .json() chamado 'pokemon.json'"
   ]
  },
  {
   "cell_type": "code",
   "execution_count": null,
   "id": "2255c8ba",
   "metadata": {},
   "outputs": [],
   "source": []
  },
  {
   "cell_type": "markdown",
   "id": "4380d019",
   "metadata": {},
   "source": [
    "# (BONUS) Customizando a busca pelo nome"
   ]
  },
  {
   "cell_type": "code",
   "execution_count": null,
   "id": "f95337b6",
   "metadata": {},
   "outputs": [],
   "source": [
    "import requests\n",
    "\n",
    "pokemon = input(\"Digite o nome de um Pokémon: \").lower()\n",
    "url = f\"https://pokeapi.co/api/v2/pokemon/{pokemon}\"\n",
    "res = requests.get(url)\n",
    "\n",
    "if res.status_code == 200:\n",
    "    data = res.json()\n",
    "    print(f\"Nome: {data['name']}\")\n",
    "    print(\"Tipos:\", \", \".join([t['type']['name'] for t in data['types']]))\n",
    "else:\n",
    "    print(\"Pokémon não encontrado.\")\n"
   ]
  }
 ],
 "metadata": {
  "kernelspec": {
   "display_name": "Python 3",
   "language": "python",
   "name": "python3"
  },
  "language_info": {
   "codemirror_mode": {
    "name": "ipython",
    "version": 3
   },
   "file_extension": ".py",
   "mimetype": "text/x-python",
   "name": "python",
   "nbconvert_exporter": "python",
   "pygments_lexer": "ipython3",
   "version": "3.13.2"
  }
 },
 "nbformat": 4,
 "nbformat_minor": 5
}
