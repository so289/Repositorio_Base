{
  "cells": [
    {
      "cell_type": "markdown",
      "id": "ec2b2ae4",
      "metadata": {
        "id": "ec2b2ae4"
      },
      "source": [
        "### Exercício 1: Criando e escrevendo em um arquivo\n",
        "\n",
        "Crie um arquivo chamado meu_arquivo.txt e escreva nele a seguinte frase: \"Estou criando esse arquivo de texto em Python!\""
      ]
    },
    {
      "cell_type": "code",
      "execution_count": null,
      "id": "cffe2a6d",
      "metadata": {
        "id": "cffe2a6d"
      },
      "outputs": [],
      "source": []
    },
    {
      "cell_type": "markdown",
      "id": "4b3f7a89",
      "metadata": {
        "id": "4b3f7a89"
      },
      "source": [
        "### Exercício 2: Lendo o conteúdo do arquivo\n",
        "\n",
        "\n",
        "Agora leia o conteúdo do arquivo meu_arquivo.txt que você criou no exercício anterior e mostre-o na tela."
      ]
    },
    {
      "cell_type": "code",
      "execution_count": null,
      "id": "e5edc612",
      "metadata": {
        "id": "e5edc612"
      },
      "outputs": [],
      "source": []
    },
    {
      "cell_type": "markdown",
      "id": "8184fdba",
      "metadata": {
        "id": "8184fdba"
      },
      "source": [
        "### Exercício 3: Adicionando mais texto\n",
        "\n",
        "Adicione a seguinte frase em uma nova linha do mesmo arquivo: \"Agora estou aprendendo a manipular arquivos!\""
      ]
    },
    {
      "cell_type": "code",
      "execution_count": null,
      "id": "723d1e8d",
      "metadata": {
        "id": "723d1e8d"
      },
      "outputs": [],
      "source": []
    },
    {
      "cell_type": "markdown",
      "id": "82c4eb19",
      "metadata": {
        "id": "82c4eb19"
      },
      "source": [
        "### Exercício 4: Contando linhas\n",
        "\n",
        "Crie um programa que conta quantas linhas tem o arquivo meu_arquivo.txt e mostra o resultado."
      ]
    },
    {
      "cell_type": "code",
      "execution_count": null,
      "id": "fd757b5e",
      "metadata": {
        "id": "fd757b5e"
      },
      "outputs": [],
      "source": []
    },
    {
      "cell_type": "markdown",
      "id": "6bc0b78f",
      "metadata": {
        "id": "6bc0b78f"
      },
      "source": [
        "### Exercício 5: Lista de compras\n",
        "\n",
        "Crie um arquivo chamado compras.txt e escreva nele, cada um em uma linha, os seguintes itens: \"Maçã\", \"Banana\", \"Leite\", \"Pão\"."
      ]
    },
    {
      "cell_type": "code",
      "execution_count": null,
      "id": "97bb5660",
      "metadata": {
        "id": "97bb5660"
      },
      "outputs": [],
      "source": []
    },
    {
      "cell_type": "markdown",
      "id": "71cf0898",
      "metadata": {
        "id": "71cf0898"
      },
      "source": [
        "### Exercício 6: Lendo linhas específicas\n",
        "\n",
        "\n",
        "Leia o arquivo compras.txt e mostre apenas o segundo item da lista (Banana)."
      ]
    },
    {
      "cell_type": "code",
      "execution_count": null,
      "id": "6d705e94",
      "metadata": {
        "id": "6d705e94"
      },
      "outputs": [],
      "source": []
    },
    {
      "cell_type": "markdown",
      "id": "bc372146",
      "metadata": {
        "id": "bc372146"
      },
      "source": [
        "### Exercício 7: Adicionando itens\n",
        "\n",
        "Peça ao usuário para digitar um novo item e adicione-o ao final da lista no arquivo compras.txt."
      ]
    },
    {
      "cell_type": "code",
      "execution_count": null,
      "id": "a6e7617c",
      "metadata": {
        "id": "a6e7617c"
      },
      "outputs": [],
      "source": []
    },
    {
      "cell_type": "markdown",
      "id": "b434b909",
      "metadata": {
        "id": "b434b909"
      },
      "source": [
        "### Exercício 8: Copiando arquivos\n",
        "\n",
        "Crie um programa que copia todo o conteúdo de meu_arquivo.txt para um novo arquivo chamado copia.txt."
      ]
    },
    {
      "cell_type": "code",
      "execution_count": null,
      "id": "3aab9832",
      "metadata": {
        "id": "3aab9832"
      },
      "outputs": [],
      "source": []
    },
    {
      "cell_type": "markdown",
      "id": "b24e8386",
      "metadata": {
        "id": "b24e8386"
      },
      "source": [
        "### Exercício 9: Contando palavras\n",
        "\n",
        "Crie um programa que conta quantas palavras tem no arquivo meu_arquivo.txt (considere que as palavras são separadas por espaços)."
      ]
    },
    {
      "cell_type": "code",
      "execution_count": null,
      "id": "896d7462",
      "metadata": {
        "id": "896d7462"
      },
      "outputs": [],
      "source": []
    },
    {
      "cell_type": "markdown",
      "id": "3bbe37c9",
      "metadata": {
        "id": "3bbe37c9"
      },
      "source": [
        "### Exercício 10: Juntando arquivos\n",
        "\n",
        "\n",
        "Crie um programa que lê o conteúdo de meu_arquivo.txt e compras.txt e cria um novo arquivo chamado juntado.txt com o conteúdo dos dois arquivos, um após o outro."
      ]
    },
    {
      "cell_type": "code",
      "execution_count": null,
      "id": "c932924e",
      "metadata": {
        "id": "c932924e"
      },
      "outputs": [],
      "source": []
    }
  ],
  "metadata": {
    "kernelspec": {
      "display_name": "Python 3",
      "language": "python",
      "name": "python3"
    },
    "language_info": {
      "codemirror_mode": {
        "name": "ipython",
        "version": 3
      },
      "file_extension": ".py",
      "mimetype": "text/x-python",
      "name": "python",
      "nbconvert_exporter": "python",
      "pygments_lexer": "ipython3",
      "version": "3.13.2"
    },
    "colab": {
      "provenance": []
    }
  },
  "nbformat": 4,
  "nbformat_minor": 5
}