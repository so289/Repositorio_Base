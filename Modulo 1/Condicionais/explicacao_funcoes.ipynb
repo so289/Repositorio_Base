{
 "cells": [
  {
   "cell_type": "markdown",
   "id": "ace65234",
   "metadata": {},
   "source": [
    "# Funções em Python"
   ]
  },
  {
   "cell_type": "markdown",
   "id": "8103b2af",
   "metadata": {},
   "source": [
    "### O que é uma função?\n",
    "Uma função em Python é como uma receita de bolo, ou um passo a passo que você escreve uma vez e pode usar várias vezes, sempre que precisar."
   ]
  },
  {
   "cell_type": "markdown",
   "id": "6ac020cd",
   "metadata": {},
   "source": [
    "###  Por que usar funções?\n",
    "- ✅ Para não repetir código desnecessariamente\n",
    "- ✅ Para organizar melhor o programa\n",
    "- ✅ Para deixar o código mais fácil de entender\n",
    "- ✅ Para reaproveitar partes do código em vários lugares"
   ]
  },
  {
   "cell_type": "markdown",
   "id": "dcad8e70",
   "metadata": {},
   "source": [
    "## Como criar uma função?\n",
    "- def → Palavra-chave que indica que você está criando uma função.\n",
    "\n",
    "- nome_da_funcao → O nome que você escolhe para a função (sem espaços, use _ se precisar).\n",
    "\n",
    "- () → Os parênteses podem receber informações (chamadas de parâmetros), se a função precisar."
   ]
  },
  {
   "cell_type": "code",
   "execution_count": 1,
   "id": "491717ea",
   "metadata": {},
   "outputs": [],
   "source": [
    "def nome_da_funcao():\n",
    "    # comandos que a função executa\n",
    "    print('Isso é uma função')\n",
    "    \n",
    "    "
   ]
  },
  {
   "cell_type": "markdown",
   "id": "bcfe6a87",
   "metadata": {},
   "source": [
    "Para chamar a função, escrevemos o nome dela e colocamos parênteses(não se esqueça dos parênteses)"
   ]
  },
  {
   "cell_type": "code",
   "execution_count": 2,
   "id": "4a485369",
   "metadata": {},
   "outputs": [
    {
     "name": "stdout",
     "output_type": "stream",
     "text": [
      "Isso é uma função\n"
     ]
    }
   ],
   "source": [
    "nome_da_funcao()\n"
   ]
  },
  {
   "cell_type": "markdown",
   "id": "4adcf792",
   "metadata": {},
   "source": [
    "## Exemplo 1: Função simples (Sem parâmetros)"
   ]
  },
  {
   "cell_type": "code",
   "execution_count": 17,
   "id": "56f5a9db",
   "metadata": {},
   "outputs": [
    {
     "name": "stdout",
     "output_type": "stream",
     "text": [
      "Olá, tudo bem?\n"
     ]
    }
   ],
   "source": [
    "def dizer_ola():\n",
    "    print(\"Olá, tudo bem?\")\n",
    "\n",
    "dizer_ola()"
   ]
  },
  {
   "cell_type": "markdown",
   "id": "6f88792b",
   "metadata": {},
   "source": [
    "## Exemplo 2: Função com parâmetros (Recebendo informações)"
   ]
  },
  {
   "cell_type": "code",
   "execution_count": 18,
   "id": "b0b0baa9",
   "metadata": {},
   "outputs": [],
   "source": [
    "def cumprimentar(nome):\n",
    "    print(f\"Oi, {nome}! Seja bem-vindo!\")\n",
    "\n"
   ]
  },
  {
   "cell_type": "code",
   "execution_count": 24,
   "id": "8959f856",
   "metadata": {},
   "outputs": [
    {
     "name": "stdout",
     "output_type": "stream",
     "text": [
      "Oi, Cléferson! Seja bem-vindo!\n",
      "Oi, Oswaldo! Seja bem-vindo!\n",
      "Oi, Jurandir! Seja bem-vindo!\n",
      "Oi, carro! Seja bem-vindo!\n",
      "Oi, 120! Seja bem-vindo!\n"
     ]
    }
   ],
   "source": [
    "cumprimentar('Cléferson')\n",
    "cumprimentar('Oswaldo')\n",
    "cumprimentar('Jurandir')\n",
    "cumprimentar('carro')\n",
    "cumprimentar(120)"
   ]
  },
  {
   "cell_type": "code",
   "execution_count": 25,
   "id": "60d37637",
   "metadata": {},
   "outputs": [
    {
     "name": "stdout",
     "output_type": "stream",
     "text": [
      "Oi, Irineu! Seja bem-vindo!\n"
     ]
    }
   ],
   "source": [
    "nome = input('Digite seu nome: ')\n",
    "cumprimentar(nome)"
   ]
  },
  {
   "cell_type": "markdown",
   "id": "10a830eb",
   "metadata": {},
   "source": [
    "## Exemplo 3: Função que retorna um resultado"
   ]
  },
  {
   "cell_type": "code",
   "execution_count": 29,
   "id": "6c0e4d93",
   "metadata": {},
   "outputs": [],
   "source": [
    "def somar(a, b):\n",
    "    return a + b\n"
   ]
  },
  {
   "cell_type": "code",
   "execution_count": 31,
   "id": "10725cae",
   "metadata": {},
   "outputs": [],
   "source": [
    "soma = somar(2,2)"
   ]
  },
  {
   "cell_type": "code",
   "execution_count": 32,
   "id": "e6a2e52e",
   "metadata": {},
   "outputs": [
    {
     "name": "stdout",
     "output_type": "stream",
     "text": [
      "4\n"
     ]
    }
   ],
   "source": [
    "print(soma)"
   ]
  },
  {
   "cell_type": "code",
   "execution_count": 33,
   "id": "6c33cd3c",
   "metadata": {},
   "outputs": [
    {
     "name": "stdout",
     "output_type": "stream",
     "text": [
      "8\n"
     ]
    }
   ],
   "source": [
    "resultado = somar(3, 5)\n",
    "print(resultado)\n"
   ]
  },
  {
   "cell_type": "markdown",
   "id": "2c391876",
   "metadata": {},
   "source": [
    "## Exemplo 4: Função com cálculo"
   ]
  },
  {
   "cell_type": "code",
   "execution_count": 35,
   "id": "fe4496ac",
   "metadata": {},
   "outputs": [],
   "source": [
    "def calcular_media(nota1, nota2, nota3):\n",
    "    media = (nota1 + nota2 + nota3) / 3\n",
    "    return media\n"
   ]
  },
  {
   "cell_type": "code",
   "execution_count": 36,
   "id": "ffb580f9",
   "metadata": {},
   "outputs": [
    {
     "name": "stdout",
     "output_type": "stream",
     "text": [
      "9.166666666666666\n",
      "8.333333333333334\n",
      "7.0\n"
     ]
    }
   ],
   "source": [
    "print(calcular_media(10,9,8.5))\n",
    "print(calcular_media(10,10,5))\n",
    "print(calcular_media(8,7,6))"
   ]
  },
  {
   "cell_type": "code",
   "execution_count": 25,
   "id": "abe528f2",
   "metadata": {},
   "outputs": [
    {
     "name": "stdout",
     "output_type": "stream",
     "text": [
      "Sua média foi: 8.166666666666666\n"
     ]
    }
   ],
   "source": [
    "media_final = calcular_media(7, 8.5, 9)\n",
    "print(f\"Sua média foi: {media_final}\")\n"
   ]
  },
  {
   "cell_type": "markdown",
   "id": "27875734",
   "metadata": {},
   "source": [
    "## 📌 Resumo da Estrutura de uma Função"
   ]
  },
  {
   "cell_type": "markdown",
   "id": "f66ee857",
   "metadata": {},
   "source": [
    "| Termo             | Significado                     |\n",
    "| ----------------- | ------------------------------- |\n",
    "| `def`             | Início da definição da função   |\n",
    "| Nome da função    | Nome que você escolhe para ela  |\n",
    "| Parâmetros        | Dados que a função pode receber |\n",
    "| `return`          | Faz a função devolver um valor  |\n",
    "| Chamada da função | Quando você manda ela rodar     |\n"
   ]
  },
  {
   "cell_type": "markdown",
   "id": "1c651b70",
   "metadata": {},
   "source": [
    "### ✅ Dicas importantes:\n",
    "Dê nomes claros às suas funções. Exemplo: calcular_area(), mostrar_mensagem().\n",
    "\n",
    "Se a função precisar de informações, use parâmetros dentro dos parênteses.\n",
    "\n",
    "Se quiser que a função te devolva algum resultado, use o return."
   ]
  },
  {
   "cell_type": "markdown",
   "id": "097faa09",
   "metadata": {},
   "source": [
    "# Exercícios"
   ]
  },
  {
   "cell_type": "markdown",
   "id": "1ed8607e",
   "metadata": {},
   "source": [
    "### 1 - Crie uma função chamada `mostrar_boas_vindas`() que exibe uma mensagem de boas-vindas."
   ]
  },
  {
   "cell_type": "code",
   "execution_count": 5,
   "id": "f3c1ffe8",
   "metadata": {},
   "outputs": [
    {
     "name": "stdout",
     "output_type": "stream",
     "text": [
      "Boas vindas!!\n"
     ]
    }
   ],
   "source": [
    "def mostrar_boas_vindas():\n",
    "    print('Boas vindas!!')\n",
    "\n",
    "mostrar_boas_vindas()"
   ]
  },
  {
   "cell_type": "code",
   "execution_count": null,
   "id": "bb72be7a",
   "metadata": {},
   "outputs": [],
   "source": []
  },
  {
   "cell_type": "code",
   "execution_count": 31,
   "id": "e85c589c",
   "metadata": {},
   "outputs": [
    {
     "name": "stdout",
     "output_type": "stream",
     "text": [
      "Olá! Bom dia! Seja bem vindo(a)\n"
     ]
    }
   ],
   "source": [
    "mostrar_boas_vindas()"
   ]
  },
  {
   "cell_type": "markdown",
   "id": "b80b5f99",
   "metadata": {},
   "source": [
    "### 2 - Crie uma função `dobro`(numero) que receba um número e retorne o dobro dele."
   ]
  },
  {
   "cell_type": "code",
   "execution_count": 1,
   "id": "553b9385",
   "metadata": {},
   "outputs": [],
   "source": [
    "def dobro(numero):\n",
    "    d =  numero *2\n",
    "    return d"
   ]
  },
  {
   "cell_type": "code",
   "execution_count": 3,
   "id": "0908bfae",
   "metadata": {},
   "outputs": [
    {
     "name": "stdout",
     "output_type": "stream",
     "text": [
      "18\n"
     ]
    }
   ],
   "source": [
    "d = dobro(9)\n",
    "print(d)"
   ]
  },
  {
   "cell_type": "code",
   "execution_count": 5,
   "id": "d89d3cca",
   "metadata": {},
   "outputs": [
    {
     "ename": "TypeError",
     "evalue": "dobro() missing 1 required positional argument: 'numero'",
     "output_type": "error",
     "traceback": [
      "\u001b[31m---------------------------------------------------------------------------\u001b[39m",
      "\u001b[31mTypeError\u001b[39m                                 Traceback (most recent call last)",
      "\u001b[36mCell\u001b[39m\u001b[36m \u001b[39m\u001b[32mIn[5]\u001b[39m\u001b[32m, line 1\u001b[39m\n\u001b[32m----> \u001b[39m\u001b[32m1\u001b[39m \u001b[43mdobro\u001b[49m\u001b[43m(\u001b[49m\u001b[43m)\u001b[49m\n",
      "\u001b[31mTypeError\u001b[39m: dobro() missing 1 required positional argument: 'numero'"
     ]
    }
   ],
   "source": [
    "dobro()"
   ]
  },
  {
   "cell_type": "markdown",
   "id": "c90f6caf",
   "metadata": {},
   "source": [
    "### 3 - Crie uma função `calcular_area_retangulo`(largura, altura) que calcule a área de um retângulo."
   ]
  },
  {
   "cell_type": "code",
   "execution_count": 6,
   "id": "7ac03809",
   "metadata": {},
   "outputs": [],
   "source": [
    "def calcular_area_retangulo(largura,altura):\n",
    "    area = largura * altura\n",
    "    return area"
   ]
  },
  {
   "cell_type": "code",
   "execution_count": 8,
   "id": "c9fdcd29",
   "metadata": {},
   "outputs": [
    {
     "name": "stdout",
     "output_type": "stream",
     "text": [
      "1350\n"
     ]
    }
   ],
   "source": [
    "area = calcular_area_retangulo(90,15)\n",
    "print(area)"
   ]
  },
  {
   "cell_type": "code",
   "execution_count": null,
   "id": "7d60e4db",
   "metadata": {},
   "outputs": [],
   "source": []
  },
  {
   "cell_type": "markdown",
   "id": "fff68710",
   "metadata": {},
   "source": [
    "### 4 - Crie uma função `verificar_idade`(idade) que informe se a pessoa é maior ou menor de idade."
   ]
  },
  {
   "cell_type": "code",
   "execution_count": 19,
   "id": "eff87652",
   "metadata": {},
   "outputs": [],
   "source": [
    "def verificar_idade(idade):\n",
    "    if idade>=18:\n",
    "        return 'maior de idade'\n",
    "\n",
    "    else:\n",
    "        return 'menor de idade'"
   ]
  },
  {
   "cell_type": "code",
   "execution_count": 20,
   "id": "23e0fdb0",
   "metadata": {},
   "outputs": [
    {
     "name": "stdout",
     "output_type": "stream",
     "text": [
      "maior de idade\n"
     ]
    }
   ],
   "source": [
    "print(verificar_idade(18))"
   ]
  },
  {
   "cell_type": "code",
   "execution_count": 21,
   "id": "dd3adfe2",
   "metadata": {},
   "outputs": [
    {
     "name": "stdout",
     "output_type": "stream",
     "text": [
      "menor de idade\n"
     ]
    }
   ],
   "source": [
    "print(verificar_idade(16))"
   ]
  },
  {
   "cell_type": "code",
   "execution_count": null,
   "id": "273834e3",
   "metadata": {},
   "outputs": [],
   "source": []
  }
 ],
 "metadata": {
  "kernelspec": {
   "display_name": "Python 3",
   "language": "python",
   "name": "python3"
  },
  "language_info": {
   "codemirror_mode": {
    "name": "ipython",
    "version": 3
   },
   "file_extension": ".py",
   "mimetype": "text/x-python",
   "name": "python",
   "nbconvert_exporter": "python",
   "pygments_lexer": "ipython3",
   "version": "3.13.2"
  }
 },
 "nbformat": 4,
 "nbformat_minor": 5
}
